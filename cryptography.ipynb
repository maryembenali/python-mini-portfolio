{
 "cells": [
  {
   "cell_type": "code",
   "execution_count": 11,
   "metadata": {
    "collapsed": true
   },
   "outputs": [],
   "source": [
    "# Q1 : \n",
    "def getAlphabet() :\n",
    "    alpha = \"\"\n",
    "    debut = ord('a')\n",
    "    fin = ord('z')\n",
    "    for asci in range(debut , fin+1) : \n",
    "        alpha = alpha + chr(asci)\n",
    "    \n",
    "    return alpha\n",
    "\n",
    "getAlphabet = lambda : \"\".join ( [chr(i) for i in range(ord('a') , ord('z')+1)] )\n",
    "\n",
    "def getAlphabet() : \n",
    "    L = [chr(i) for i in range(ord('a') , ord('z')+1)] \n",
    "    return \"\".join (L)"
   ]
  },
  {
   "cell_type": "code",
   "execution_count": 13,
   "metadata": {},
   "outputs": [
    {
     "data": {
      "text/plain": [
       "'abcdefghijklmnopqrstuvwxyz'"
      ]
     },
     "execution_count": 13,
     "metadata": {},
     "output_type": "execute_result"
    }
   ],
   "source": [
    "getAlphabet()"
   ]
  },
  {
   "cell_type": "code",
   "execution_count": 15,
   "metadata": {
    "collapsed": true
   },
   "outputs": [],
   "source": [
    "# Q2 : \n",
    "def cesar_car(lettre , k , alphabet) : \n",
    "    if lettre in alphabet  : \n",
    "        rangLettre = alphabet.index(lettre)\n",
    "        #rangLettre = ord(lettre) - ord(alphabet[0])\n",
    "        rangCrypte = (rangLettre + k ) % 26\n",
    "        lettreCrypt = alphabet[rangCrypte]\n",
    "        return lettreCrypt\n",
    "    else : \n",
    "        return lettre\n",
    "    "
   ]
  },
  {
   "cell_type": "code",
   "execution_count": 21,
   "metadata": {},
   "outputs": [
    {
     "data": {
      "text/plain": [
       "'e'"
      ]
     },
     "execution_count": 21,
     "metadata": {},
     "output_type": "execute_result"
    }
   ],
   "source": [
    "cesar_car('b' , +3 , getAlphabet()) "
   ]
  },
  {
   "cell_type": "code",
   "execution_count": 22,
   "metadata": {
    "collapsed": true
   },
   "outputs": [],
   "source": [
    "# Q3 : \n",
    "def cesar_crypt_mot(mot , k , alphabet) : \n",
    "    motCr =\"\"\n",
    "    for car in mot : \n",
    "        motCr += cesar_car(car , k , alphabet)\n",
    "    return motCr"
   ]
  },
  {
   "cell_type": "code",
   "execution_count": 24,
   "metadata": {},
   "outputs": [
    {
     "data": {
      "text/plain": [
       "'Btsotzw Xrjs !'"
      ]
     },
     "execution_count": 24,
     "metadata": {},
     "output_type": "execute_result"
    }
   ],
   "source": [
    "cesar_crypt_mot(\"Bonjour Xmen !\" , 5 , getAlphabet())"
   ]
  },
  {
   "cell_type": "code",
   "execution_count": 25,
   "metadata": {
    "collapsed": true
   },
   "outputs": [],
   "source": [
    "#Q4 : \n",
    "def cesar_decrypt_mot(mot , cle , alpha) : \n",
    "    return cesar_crypt_mot(mot , -cle , alpha )"
   ]
  },
  {
   "cell_type": "code",
   "execution_count": 26,
   "metadata": {},
   "outputs": [
    {
     "data": {
      "text/plain": [
       "'Bonjour Xmen !'"
      ]
     },
     "execution_count": 26,
     "metadata": {},
     "output_type": "execute_result"
    }
   ],
   "source": [
    "cesar_decrypt_mot('Btsotzw Xrjs !' , 5 , getAlphabet())"
   ]
  },
  {
   "cell_type": "code",
   "execution_count": 35,
   "metadata": {
    "collapsed": true
   },
   "outputs": [],
   "source": [
    "#Q5 \n",
    "def frequence(mot , alphabet) : \n",
    "    F = dict()\n",
    "    for lettre in set(mot) : \n",
    "        print(F)\n",
    "        #cle = lettre\n",
    "        #val = mot.count(lettre)\n",
    "        if lettre in alphabet : \n",
    "            F[lettre] = mot.count(lettre)\n",
    "    return F\n",
    "def frequence(mot , alphabet) : \n",
    "    F = dict()\n",
    "    for i in range(len(mot)): \n",
    "        if mot[i] in alphabet :\n",
    "            if mot[i] not in mot[ : i] : \n",
    "                F[mot[i]] = mot.count(mot[i])\n",
    "    return F\n",
    "def frequence(mot , alphabet) : \n",
    "    F = dict()\n",
    "    for i in range(len(mot)): \n",
    "        if mot[i] in alphabet :\n",
    "            if mot[i] not in F.keys(): \n",
    "                F[mot[i]] = mot.count(mot[i])\n",
    "    return F"
   ]
  },
  {
   "cell_type": "code",
   "execution_count": 36,
   "metadata": {},
   "outputs": [
    {
     "data": {
      "text/plain": [
       "{'b': 1,\n",
       " 'c': 1,\n",
       " 'e': 4,\n",
       " 'i': 3,\n",
       " 'm': 1,\n",
       " 'n': 2,\n",
       " 'p': 4,\n",
       " 's': 1,\n",
       " 't': 1,\n",
       " 'u': 1,\n",
       " 'v': 1}"
      ]
     },
     "execution_count": 36,
     "metadata": {},
     "output_type": "execute_result"
    }
   ],
   "source": [
    "frequence('bienvenue ipeis mp pc pt!' , getAlphabet())"
   ]
  },
  {
   "cell_type": "code",
   "execution_count": null,
   "metadata": {
    "collapsed": true
   },
   "outputs": [],
   "source": []
  }
 ],
 "metadata": {
  "kernelspec": {
   "display_name": "Python 3",
   "language": "python",
   "name": "python3"
  },
  "language_info": {
   "codemirror_mode": {
    "name": "ipython",
    "version": 3
   },
   "file_extension": ".py",
   "mimetype": "text/x-python",
   "name": "python",
   "nbconvert_exporter": "python",
   "pygments_lexer": "ipython3",
   "version": "3.6.3"
  }
 },
 "nbformat": 4,
 "nbformat_minor": 2
}
