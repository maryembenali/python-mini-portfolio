{
 "cells": [
  {
   "cell_type": "code",
   "execution_count": 39,
   "metadata": {
    "collapsed": true
   },
   "outputs": [],
   "source": [
    "import math\n",
    "class Polynome : \n",
    "    def __init__(self , L) : \n",
    "        self.coef = L\n",
    "    def __repr__(self) : \n",
    "        ch = \"\" \n",
    "        for i in range(len(self.coef) - 1 , -1 , -1 ) : \n",
    "            if self.coef[i] != 0 :\n",
    "                ch += \"{}x^{}+\".format(self.coef[i] , i)\n",
    "        return ch[: -1]\n",
    "    def __call__(self , v) : # ( )\n",
    "        s = 0 \n",
    "        for i in range(len(self.coef)) : \n",
    "            s += self.coef[i]*v**i\n",
    "        return s\n",
    "    \n",
    "    __call__ = lambda self, v : sum([self.coef[i]*v**i for i in range(len(self.coef)) ])\n",
    "    \n",
    "    def degre(self) : \n",
    "        d = len(self.coef) - 1 \n",
    "        while self.coef[d] == 0  : \n",
    "            d  = d - 1 \n",
    "            if d < 0 : \n",
    "                break\n",
    "                \n",
    "        if d < 0 : \n",
    "            return -math.inf\n",
    "        else :\n",
    "            return d\n",
    "        \n",
    "    def __getitem__(self , i) : \n",
    "        if i in range(0, self.degre()+1) : \n",
    "            return self.coef[i]\n",
    "        else : \n",
    "            return 0\n",
    "    def __getitem__(self , i ) : # []\n",
    "        try : \n",
    "            assert i in range(self.degre()+1)\n",
    "            return self.coef[i]\n",
    "        except : \n",
    "            return 0\n",
    "    def __add__(self , other) :   # +\n",
    "        L = list()\n",
    "        m = max(self.degre() , other.degre())\n",
    "        #m = max(len(self.coef) , len(other.coef))\n",
    "        for i in range(m+1) : \n",
    "            c = self[i] + other[i]\n",
    "            #c = self.__getitem__(i)+other.__getitem__(i)\n",
    "            L.append(c)\n",
    "        \n",
    "        P = Polynome(L) # appel à init\n",
    "        return P\n",
    "    def mulConstante(self , a) : \n",
    "        L = [a*self[i] for i in range(self.degre()+1)]\n",
    "        return Polynome(L)\n",
    "    def mulMonome(self , d ) : \n",
    "        L = [0]*d + self.coef\n",
    "        return Polynome(L)\n",
    "    def mulMonome2(self , d) : \n",
    "        L = [0]*(d+self.degre()+1)\n",
    "        for i in range(d , len(L)) : \n",
    "            L[i] = self[i-d]\n",
    "        return Polynome(L)\n",
    "    def __mul__(self , other)  :  # *\n",
    "        s  = Polynome([0])\n",
    "        for i in range(len(self.coef)) : \n",
    "            P1 = other.mulMonome(i)\n",
    "            P2 = P1.mulConstante(self[i])\n",
    "            s += P2\n",
    "        return s\n",
    "    def __pow__(self , n)  :  # **\n",
    "        P = Polynome([1])\n",
    "        for i in range(n) : \n",
    "            P =  P * self\n",
    "        return P\n",
    "    def __pow__(self , n ) : \n",
    "        if n == 0  : \n",
    "            return Polynome([1])\n",
    "        else  : \n",
    "            return self * self**(n-1)\n",
    "            return self.__mul__(self.__pow__(n-1))\n",
    "    def derive(self) :\n",
    "        L = [0] * ( len(self.coef)-1)\n",
    "        for i in range(len(L)) :\n",
    "            L[i] = self.coef[i+1]*(i+1)\n",
    "        P = Polynome(L)\n",
    "        L = [self.coef[i]*(i) for i in range(1,len(self.coef))]\n",
    "    return P\n",
    "    def primitive (self , c = 0) :\n",
    "        L = [c]\n",
    "        for i in range(1, len(self.coef)+1) :\n",
    "            L.append(self.coef[i-1]/i)\n",
    "        P = Polynome(L)\n",
    "    return P\n",
    "    def integrale(self , a , b) :\n",
    "        return self.primitive()(b) - self.primitive.__call__(a)\n",
    "     "
   ]
  },
  {
   "cell_type": "code",
   "execution_count": 32,
   "metadata": {},
   "outputs": [
    {
     "name": "stdout",
     "output_type": "stream",
     "text": [
      "p1 =  4x^2+3x^1+2x^0\n",
      "p1(1) = 9\n",
      "degre de p1 =  2\n",
      "p1[2] =  4\n"
     ]
    }
   ],
   "source": [
    "p1 = Polynome([2,3,4]) # appel à init \n",
    "print(\"p1 = \",p1)               # p1.__repr__()\n",
    "print(\"p1(1) =\" , p1(1)) # appel à call\n",
    "deg = p1.degre()\n",
    "print('degre de p1 = ' , deg)\n",
    "print(\"p1[2] = \",p1[2])"
   ]
  },
  {
   "cell_type": "code",
   "execution_count": 33,
   "metadata": {},
   "outputs": [
    {
     "name": "stdout",
     "output_type": "stream",
     "text": [
      "p2 =  5x^3+2x^2+1x^0\n"
     ]
    }
   ],
   "source": [
    "p2 = Polynome([1,0,2,5])\n",
    "print(\"p2 = \",p2)"
   ]
  },
  {
   "cell_type": "code",
   "execution_count": 34,
   "metadata": {},
   "outputs": [
    {
     "name": "stdout",
     "output_type": "stream",
     "text": [
      "p3 =  5x^3+6x^2+3x^1+3x^0\n"
     ]
    }
   ],
   "source": [
    "p3 = p1  + p2 # p3 = p1.__add__(p2)\n",
    "print(\"p3 = \" , p3)"
   ]
  },
  {
   "cell_type": "code",
   "execution_count": 35,
   "metadata": {},
   "outputs": [
    {
     "name": "stdout",
     "output_type": "stream",
     "text": [
      "p4  =  20x^5+23x^4+16x^3+8x^2+3x^1+2x^0\n"
     ]
    }
   ],
   "source": [
    "p4 = p1 * p2 #p1.__mul__(p2)\n",
    "print(\"p4  = \", p4)"
   ]
  },
  {
   "cell_type": "code",
   "execution_count": null,
   "metadata": {
    "collapsed": true
   },
   "outputs": [],
   "source": []
  },
  {
   "cell_type": "code",
   "execution_count": null,
   "metadata": {
    "collapsed": true
   },
   "outputs": [],
   "source": []
  }
 ],
 "metadata": {
  "kernelspec": {
   "display_name": "Python 3",
   "language": "python",
   "name": "python3"
  },
  "language_info": {
   "codemirror_mode": {
    "name": "ipython",
    "version": 3
   },
   "file_extension": ".py",
   "mimetype": "text/x-python",
   "name": "python",
   "nbconvert_exporter": "python",
   "pygments_lexer": "ipython3",
   "version": "3.6.3"
  }
 },
 "nbformat": 4,
 "nbformat_minor": 2
}
